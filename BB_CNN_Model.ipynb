{
 "cells": [
  {
   "cell_type": "code",
   "execution_count": 1,
   "metadata": {},
   "outputs": [
    {
     "name": "stderr",
     "output_type": "stream",
     "text": [
      "C:\\Users\\Pushpa\\anaconda3\\lib\\site-packages\\scipy\\__init__.py:146: UserWarning: A NumPy version >=1.16.5 and <1.23.0 is required for this version of SciPy (detected version 1.23.1\n",
      "  warnings.warn(f\"A NumPy version >={np_minversion} and <{np_maxversion}\"\n"
     ]
    }
   ],
   "source": [
    "# Joint AI model for Backbone Curve generation\n",
    "\n",
    "import os\n",
    "import time\n",
    "import glob\n",
    "import pandas as pd\n",
    "import numpy as np\n",
    "\n",
    "## Visualization\n",
    "import matplotlib.pyplot as plt\n",
    "\n",
    "## Scikit-learn\n",
    "from sklearn.model_selection import train_test_split\n",
    "\n",
    "## TensorFlow\n",
    "import tensorflow as tf\n",
    "from tensorflow.python.client import device_lib\n",
    "\n",
    "\n",
    "## Keras\n",
    "from keras.models import Model, Sequential\n",
    "from keras.layers import Input, InputLayer, LSTM, Dense, RepeatVector, TimeDistributed, Flatten\n",
    "from keras.layers import Conv1D, AvgPool1D, Flatten, Reshape,UpSampling1D\n",
    "from keras.optimizers import Adam"
   ]
  },
  {
   "cell_type": "code",
   "execution_count": 2,
   "metadata": {},
   "outputs": [
    {
     "name": "stdout",
     "output_type": "stream",
     "text": [
      "Num GPUs Available:  1\n",
      "[name: \"/device:CPU:0\"\n",
      "device_type: \"CPU\"\n",
      "memory_limit: 268435456\n",
      "locality {\n",
      "}\n",
      "incarnation: 3723313139471929071\n",
      "xla_global_id: -1\n",
      ", name: \"/device:GPU:0\"\n",
      "device_type: \"GPU\"\n",
      "memory_limit: 2927833908\n",
      "locality {\n",
      "  bus_id: 1\n",
      "  links {\n",
      "  }\n",
      "}\n",
      "incarnation: 6967179093387886391\n",
      "physical_device_desc: \"device: 0, name: Quadro P620, pci bus id: 0000:01:00.0, compute capability: 6.1\"\n",
      "xla_global_id: 416903419\n",
      "]\n"
     ]
    }
   ],
   "source": [
    "# os.environ[\"CUDA_DEVICE_ORDER\"] = \"PCI_BUS_ID\"\n",
    "# os.environ[\"CUDA_VISIBLE_DEVICES\"] = '-1' # '-1' for CPU\n",
    "\n",
    "print(\"Num GPUs Available: \", len(tf.config.list_physical_devices('GPU')))\n",
    "print(device_lib.list_local_devices())"
   ]
  },
  {
   "cell_type": "code",
   "execution_count": 3,
   "metadata": {},
   "outputs": [
    {
     "name": "stdout",
     "output_type": "stream",
     "text": [
      "10141\n",
      "(10141, 5281, 2)\n"
     ]
    }
   ],
   "source": [
    "file_path = 'D:/PhD/Joint_Modeling/Non_linear_dynamics_modelling/Backbone/MCMC_Backbone/Duffing/'\n",
    "names = [name for name in glob.glob(file_path + 'BB*.csv')]\n",
    "print(len(names))\n",
    "\n",
    "max_len = 0\n",
    "for file in names:\n",
    "    temp =  np.loadtxt(file, delimiter=\",\")\n",
    "    l = len(temp)\n",
    "    if l >= max_len:\n",
    "        max_len = l\n",
    "\n",
    "#########################\n",
    "# Create empty array\n",
    "raw_data = np.zeros((len(names),max_len,2))\n",
    "print(raw_data.shape)"
   ]
  },
  {
   "cell_type": "code",
   "execution_count": 4,
   "metadata": {},
   "outputs": [
    {
     "name": "stdout",
     "output_type": "stream",
     "text": [
      "(10141, 5281, 2)\n"
     ]
    }
   ],
   "source": [
    "######### Storing values to an Numpy array #################\n",
    "import numpy as np\n",
    "from scipy.ndimage.interpolation import map_coordinates\n",
    "\n",
    "for sample in range(len(names)):\n",
    "    temp_data=np.loadtxt(names[sample], delimiter=\",\")\n",
    "#     print('temp_data1', temp_data.shape)\n",
    "    if len(temp_data) == max_len:\n",
    "        temp = raw_data[sample,0:max_len,:] + temp_data\n",
    "    else:\n",
    "        new_dims = []\n",
    "        for original_length, new_length in zip(temp_data.shape, (max_len,2)):\n",
    "            new_dims.append(np.linspace(0, original_length-1, new_length))\n",
    "            \n",
    "        coords = np.meshgrid(*new_dims, indexing='ij')\n",
    "        B = map_coordinates(temp_data, coords)\n",
    "#         print(B.shape)\n",
    "        temp = raw_data[sample,0:max_len,:] + B\n",
    "        \n",
    "#       temp_data[len(temp_data):max_len,:] = temp_data[0: max_len-len(temp_data),:]\n",
    "#         delta = max_len-len(temp_data)\n",
    "#         print('delta:', delta)\n",
    "#         slice_ = temp_data[0:delta,:]\n",
    "#         print(temp_data.shape)\n",
    "#         print('slice: ',slice_.shape)\n",
    "#         temp_data = np.concatenate((temp_data, slice_),axis=0)\n",
    "#         print('temp_data2: ', temp_data.shape)\n",
    "#         temp = raw_data[sample,0:max_len,:] + temp_data\n",
    "#         print(temp.shape)\n",
    "  # print('Sample: ',sample, 'Length : ', (temp_data.shape))\n",
    "#     print(temp.shape)\n",
    "    raw_data[sample,0:max_len,:] = temp\n",
    "\n",
    "print(raw_data.shape)"
   ]
  },
  {
   "cell_type": "code",
   "execution_count": 5,
   "metadata": {
    "id": "887X-lh243Uh"
   },
   "outputs": [],
   "source": [
    "# ######### Storing values to an Numpy array #################\n",
    "# for sample in range(len(names)):\n",
    "#     temp_data=np.loadtxt(names[sample], delimiter=\",\")\n",
    "#     temp = raw_data[sample,0:len(temp_data),:] + temp_data\n",
    "#   # print('Sample: ',sample, 'Length : ', (temp_data.shape))\n",
    "#     raw_data[sample,0:len(temp_data),:] = temp\n",
    "\n",
    "# print(raw_data.shape)"
   ]
  },
  {
   "cell_type": "code",
   "execution_count": 6,
   "metadata": {
    "colab": {
     "base_uri": "https://localhost:8080/"
    },
    "id": "qkKoM8zkR2ET",
    "outputId": "f3b905be-046f-4e77-bfa8-5da9e19cd9a7"
   },
   "outputs": [],
   "source": [
    "# Max_data = np.max(raw_data)\n",
    "# Min_data = np.min(raw_data)\n",
    "# print(Max_data, Min_data )\n",
    "\n",
    "############## Scaling of parameters ###############\n",
    "# data_scaled = raw_data/Max_data\n",
    "# print(data_scaled.shape)"
   ]
  },
  {
   "cell_type": "code",
   "execution_count": 7,
   "metadata": {},
   "outputs": [
    {
     "name": "stdout",
     "output_type": "stream",
     "text": [
      "0.009602317766339387 0.0014076999999835765\n",
      "7203.828404750531 1281.0486488842723\n"
     ]
    }
   ],
   "source": [
    "Max_data1 = np.max(raw_data[:,:,0])\n",
    "Min_data1 = np.min(raw_data[:,:,0])\n",
    "print(Max_data1, Min_data1)\n",
    "\n",
    "Max_data2 = np.max(raw_data[:,:,1])\n",
    "Min_data2 = np.min(raw_data[:,:,1])\n",
    "print(Max_data2, Min_data2)"
   ]
  },
  {
   "cell_type": "code",
   "execution_count": 8,
   "metadata": {},
   "outputs": [
    {
     "name": "stdout",
     "output_type": "stream",
     "text": [
      "5280\n",
      "(10141, 5280, 2)\n",
      "1.0 0.1466220575312057\n"
     ]
    }
   ],
   "source": [
    "if (max_len//2) == 0:\n",
    "    max_len = max_len\n",
    "else:\n",
    "    max_len = max_len-1\n",
    "    \n",
    "print(max_len)\n",
    "data_scaled=np.zeros((len(names),max_len,2))\n",
    "data_scaled[:,:,0] = raw_data[:,0:max_len,0]/Max_data1\n",
    "data_scaled[:,:,1] = raw_data[:,0:max_len,1]/Max_data2\n",
    "# data_scaled = raw_data[:,:,0]/Max_data1\n",
    "# data_scaled = raw_data[:,:,1]/Max_data2\n",
    "print(data_scaled.shape)\n",
    "\n",
    "Max_data3 = np.max(data_scaled)\n",
    "Min_data3 = np.min(data_scaled)\n",
    "print(Max_data3, Min_data3)"
   ]
  },
  {
   "cell_type": "markdown",
   "metadata": {},
   "source": [
    "## Visualize one `sample` of Backbone curve"
   ]
  },
  {
   "cell_type": "code",
   "execution_count": 9,
   "metadata": {},
   "outputs": [
    {
     "data": {
      "text/plain": [
       "<matplotlib.legend.Legend at 0x1f362bf94f0>"
      ]
     },
     "execution_count": 9,
     "metadata": {},
     "output_type": "execute_result"
    },
    {
     "data": {
      "image/png": "[encoded data removed]",
      "text/plain": [
       "<Figure size 720x288 with 1 Axes>"
      ]
     },
     "metadata": {
      "needs_background": "light"
     },
     "output_type": "display_data"
    }
   ],
   "source": [
    "fig, axs = plt.subplots(figsize=(10,4))\n",
    "# fig.suptitle('Backbone Curve (raw_data)')\n",
    "axs.scatter(raw_data[77,:,1], raw_data[77,:,0], label = 'BB curve')\n",
    "axs.set_xlabel('Frequency')\n",
    "axs.set_ylabel('Amplitude')\n",
    "plt.legend()"
   ]
  },
  {
   "cell_type": "markdown",
   "metadata": {},
   "source": [
    "# Convolutional Autoencoder (1D CNN model)"
   ]
  },
  {
   "cell_type": "code",
   "execution_count": 10,
   "metadata": {},
   "outputs": [
    {
     "name": "stdout",
     "output_type": "stream",
     "text": [
      "7605 2535\n"
     ]
    }
   ],
   "source": [
    "# Define model inputs\n",
    "batch_size = 32\n",
    "epochs     = 100//2\n",
    "timesteps, n_features      = (max_len, 2)\n",
    "# train_sample, valid_sample = (350, 93)\n",
    "train_sample, valid_sample = (int(0.75*len(names)), int(0.25*len(names)))\n",
    "print(train_sample, valid_sample)"
   ]
  },
  {
   "cell_type": "code",
   "execution_count": 11,
   "metadata": {},
   "outputs": [
    {
     "name": "stdout",
     "output_type": "stream",
     "text": [
      "Training data shape: (7605, 5280, 2)\n",
      "Valid data shape:    (2536, 5280, 2)\n"
     ]
    }
   ],
   "source": [
    "# Define model inputs\n",
    "batch_size = 32\n",
    "epochs     = 100\n",
    "timesteps, n_features      = (max_len, 2)\n",
    "# train_sample, valid_sample = (350, 93)\n",
    "train_sample, valid_sample = (int(0.75*len(names)), int(0.25*len(names)))\n",
    "\n",
    "# data_train = data(train_sample, timesteps, n_features)\n",
    "# data_valid = data(valid_sample, timesteps, n_features)\n",
    "\n",
    "# data_train = data_scaled[0:train_sample,0:max_len,:]\n",
    "# data_valid = data_scaled[train_sample:,0:max_len,:]\n",
    "data_train = data_scaled[0:train_sample]\n",
    "data_valid = data_scaled[train_sample:]\n",
    "\n",
    "print(f'Training data shape: {data_train.shape}')\n",
    "print(f'Valid data shape:    {data_valid.shape}')"
   ]
  },
  {
   "cell_type": "code",
   "execution_count": 12,
   "metadata": {},
   "outputs": [
    {
     "name": "stdout",
     "output_type": "stream",
     "text": [
      "(None, 330, 32)\n",
      "(None, 10560)\n",
      "Model: \"AUTOENCODER\"\n",
      "_________________________________________________________________\n",
      " Layer (type)                Output Shape              Param #   \n",
      "=================================================================\n",
      " input_3 (InputLayer)        [(None, 5280, 2)]         0         \n",
      "                                                                 \n",
      " ENCODER (Functional)        (None, 64)                712576    \n",
      "                                                                 \n",
      " DECODER (Functional)        (None, 5280, 2)           707650    \n",
      "                                                                 \n",
      "=================================================================\n",
      "Total params: 1,420,226\n",
      "Trainable params: 1,420,226\n",
      "Non-trainable params: 0\n",
      "_________________________________________________________________\n",
      "None\n"
     ]
    }
   ],
   "source": [
    "\n",
    "# Encoder\n",
    "inputs_encoder = Input(shape = (max_len,2))\n",
    "X = Conv1D(filters=64, kernel_size=5, padding='same', activation='relu')(inputs_encoder)\n",
    "X = AvgPool1D(pool_size=2)(X)\n",
    "X = Conv1D(filters=64, kernel_size=5, padding='same', activation='relu')(X)\n",
    "X = AvgPool1D(pool_size=2)(X)\n",
    "X = Conv1D(filters=32, kernel_size=5, padding='same', activation='relu')(X)\n",
    "X = AvgPool1D(pool_size=2)(X)\n",
    "X = Conv1D(filters=32, kernel_size=5, padding='same', activation='relu')(X)\n",
    "X = AvgPool1D(pool_size=2)(X)\n",
    "print(X.shape)\n",
    "X = Flatten()(X)\n",
    "print(X.shape)\n",
    "outputs_encoder = Dense(64, activation=\"relu\")(X)\n",
    "\n",
    "Encoder = Model(inputs_encoder, outputs_encoder, name='ENCODER')\n",
    "# print(Encoder.summary())\n",
    "\n",
    "\n",
    "# Decoder\n",
    "inputs_decoder = Input(shape=(64))\n",
    "X = Dense(10560, activation='relu')(inputs_decoder)\n",
    "X = Reshape(target_shape=(330, 32))(X)\n",
    "X = UpSampling1D(size = 2)(X)\n",
    "X = Conv1D(filters=32, kernel_size=5, padding='same', activation='relu')(X)\n",
    "X = UpSampling1D(size=2)(X)\n",
    "X = Conv1D(filters=32, kernel_size=5, padding='same', activation='relu')(X)\n",
    "X = UpSampling1D(size = 2)(X)\n",
    "X = Conv1D(filters=64, kernel_size=5, padding='same', activation='relu')(X)\n",
    "X = UpSampling1D(size=2)(X)\n",
    "outputs_decoder = Conv1D(filters=2, kernel_size=5,  padding='same')(X)\n",
    "\n",
    "Decoder = Model(inputs_decoder, outputs_decoder, name='DECODER')\n",
    "# print(Decoder.summary())\n",
    "\n",
    "Autoencoder_input = Input(shape = (timesteps, n_features))\n",
    "encoded           = Encoder(Autoencoder_input)\n",
    "decoded           = Decoder(encoded)\n",
    "\n",
    "Autoencoder_Model = Model(Autoencoder_input, decoded, name='AUTOENCODER')\n",
    "print(Autoencoder_Model.summary())\n",
    "\n",
    "Autoencoder_Model.compile(optimizer = Adam(learning_rate=1e-4), loss='mse', metrics = ['logcosh'])"
   ]
  },
  {
   "cell_type": "code",
   "execution_count": null,
   "metadata": {
    "scrolled": true
   },
   "outputs": [
    {
     "name": "stdout",
     "output_type": "stream",
     "text": [
      "Epoch 1/100\n"
     ]
    }
   ],
   "source": [
    "history = Autoencoder_Model.fit(data_train, data_train, validation_data=(data_valid, data_valid),\n",
    "                                    batch_size = batch_size, epochs = epochs, verbose=True)"
   ]
  },
  {
   "cell_type": "code",
   "execution_count": null,
   "metadata": {},
   "outputs": [],
   "source": [
    "plt.plot(history.history['loss'])"
   ]
  },
  {
   "cell_type": "code",
   "execution_count": null,
   "metadata": {},
   "outputs": [],
   "source": [
    "pred_data = Autoencoder_Model.predict(data_valid)\n",
    "pred_data.shape"
   ]
  },
  {
   "cell_type": "code",
   "execution_count": null,
   "metadata": {
    "id": "HjYpbD9FfJ4Q"
   },
   "outputs": [],
   "source": [
    "## Save Autoencoder\n",
    "# Encoder.save('Encoder_Conv1D_model')\n",
    "# Decoder.save('Decoder_Conv1D_model')"
   ]
  },
  {
   "cell_type": "code",
   "execution_count": null,
   "metadata": {},
   "outputs": [],
   "source": [
    "error = pred_data - data_valid\n",
    "error.shape"
   ]
  },
  {
   "cell_type": "code",
   "execution_count": null,
   "metadata": {},
   "outputs": [],
   "source": [
    "fig, axs = plt.subplots(figsize=(10,4))\n",
    "# fig.suptitle('Backbone Curve (raw_data)')\n",
    "axs.scatter(pred_data[7,:,1], pred_data[7,:,0], label = 'Predicted')\n",
    "axs.scatter(data_valid[7,:,1], data_valid[7,:,0], label = 'Actual')\n",
    "axs.set_xlabel('Frequency')\n",
    "axs.set_ylabel('Amplitude')\n",
    "plt.legend()"
   ]
  },
  {
   "cell_type": "code",
   "execution_count": null,
   "metadata": {},
   "outputs": [],
   "source": [
    "fig, axs = plt.subplots(figsize=(10,4))\n",
    "# fig.suptitle('Backbone Curve (raw_data)')\n",
    "axs.plot(pred_data[7,:,1], label = 'Predicted')\n",
    "axs.plot(data_valid[7,:,1], label = 'Actual')\n",
    "axs.set_xlabel('Frequency')\n",
    "# axs.set_ylabel('Amplitude')\n",
    "plt.legend()"
   ]
  },
  {
   "cell_type": "code",
   "execution_count": null,
   "metadata": {},
   "outputs": [],
   "source": [
    "fig, axs = plt.subplots(figsize=(10,4))\n",
    "# fig.suptitle('Backbone Curve (raw_data)')\n",
    "axs.plot(pred_data[7,:,0], label = 'Predicted')\n",
    "axs.plot(data_valid[7,:,0], label = 'Actual')\n",
    "# axs.set_xlabel('Frequency')\n",
    "axs.set_xlabel('Amplitude')\n",
    "plt.legend()"
   ]
  },
  {
   "cell_type": "code",
   "execution_count": null,
   "metadata": {},
   "outputs": [],
   "source": [
    "plt.plot(error[0,:,0])"
   ]
  },
  {
   "cell_type": "code",
   "execution_count": null,
   "metadata": {},
   "outputs": [],
   "source": [
    "plt.plot(data_valid[7,:,0])"
   ]
  },
  {
   "cell_type": "markdown",
   "metadata": {},
   "source": [
    "# FFNN"
   ]
  },
  {
   "cell_type": "code",
   "execution_count": null,
   "metadata": {},
   "outputs": [],
   "source": [
    "inputs_ffnn = Input(shape = (3,))\n",
    "X = Dense(256, activation='relu')(inputs_ffnn)\n",
    "X = Dense(256, activation='relu')(X)\n",
    "X = Dense(256, activation='relu')(X)\n",
    "X = Dense(256, activation='relu')(X)\n",
    "outputs_ffnn = Dense(64, activation=\"relu\")(X)\n",
    "\n",
    "FFNN = Model(inputs_ffnn, outputs_ffnn, name='FFNN')\n",
    "FFNN.compile(optimizer = Adam(learning_rate=1e-3), loss='mse')\n",
    "FFNN.summary()"
   ]
  },
  {
   "cell_type": "code",
   "execution_count": null,
   "metadata": {},
   "outputs": [],
   "source": [
    "import re\n",
    "temp = re.split('_|.csv',names[99])\n",
    "print(temp[-2],temp[-4],temp[-6])"
   ]
  },
  {
   "cell_type": "code",
   "execution_count": null,
   "metadata": {},
   "outputs": [],
   "source": [
    "K1 = []\n",
    "K2 = []\n",
    "Cd = []\n",
    "\n",
    "for name in names:\n",
    "    temp = re.split('_|.csv',name)\n",
    "    K1.append(np.float32(temp[-6]))\n",
    "    K2.append(np.float32(temp[-4]))\n",
    "    Cd.append(np.float32(temp[-2]))\n",
    "\n",
    "print(len(K1), len(K2), len(Cd))"
   ]
  },
  {
   "cell_type": "code",
   "execution_count": null,
   "metadata": {},
   "outputs": [],
   "source": [
    "Input_parameters = np.stack((K1,K2,Cd), axis=1)\n",
    "print(Input_parameters.shape)"
   ]
  },
  {
   "cell_type": "code",
   "execution_count": null,
   "metadata": {},
   "outputs": [],
   "source": [
    "var_max1 = np.max(Input_parameters[:,0])\n",
    "var_max2 = np.max(Input_parameters[:,1])\n",
    "var_max3 = np.max(Input_parameters[:,2])\n",
    "\n",
    "Input_parameters[:,0] = Input_parameters[:,0]/var_max1\n",
    "Input_parameters[:,1] = Input_parameters[:,1]/var_max2\n",
    "Input_parameters[:,2] = Input_parameters[:,2]/var_max3"
   ]
  },
  {
   "cell_type": "code",
   "execution_count": null,
   "metadata": {},
   "outputs": [],
   "source": [
    "FFNN_InputData_train = Input_parameters[0:int(0.75*len(K1))]\n",
    "FFNN_InputData_valid = Input_parameters[int(0.75*len(K1)):]\n",
    "print(FFNN_InputData_train.shape, FFNN_InputData_valid.shape)"
   ]
  },
  {
   "cell_type": "code",
   "execution_count": null,
   "metadata": {},
   "outputs": [],
   "source": [
    "FFNN_OutputData_train = Encoder.predict(data_train)\n",
    "FFNN_OutputData_valid = Encoder.predict(data_valid)"
   ]
  },
  {
   "cell_type": "markdown",
   "metadata": {},
   "source": [
    "## Train FFNN"
   ]
  },
  {
   "cell_type": "code",
   "execution_count": null,
   "metadata": {
    "scrolled": true
   },
   "outputs": [],
   "source": [
    "hist_FFNN = FFNN.fit(FFNN_InputData_train, FFNN_OutputData_train,\n",
    "                     validation_data=(FFNN_InputData_valid, FFNN_OutputData_valid),\n",
    "                    batch_size = batch_size, epochs = 500, verbose=True)"
   ]
  },
  {
   "cell_type": "code",
   "execution_count": null,
   "metadata": {},
   "outputs": [],
   "source": [
    "plt.plot(hist_FFNN.history['loss'])"
   ]
  },
  {
   "cell_type": "code",
   "execution_count": null,
   "metadata": {},
   "outputs": [],
   "source": [
    "FFNN_pred_data = FFNN.predict(FFNN_InputData_valid)\n",
    "FFNN_pred_data.shape"
   ]
  },
  {
   "cell_type": "code",
   "execution_count": null,
   "metadata": {},
   "outputs": [],
   "source": [
    "FFNN_fig, FFNN_axs = plt.subplots(figsize=(10,4))\n",
    "# fig.suptitle('Backbone Curve (raw_data)')\n",
    "FFNN_axs.plot(FFNN_pred_data[7,:], label = 'Predicted')\n",
    "FFNN_axs.plot(FFNN_InputData_valid[7,:], label = 'Actual')\n",
    "FFNN_axs.set_xlabel('Frequency')\n",
    "# axs.set_ylabel('Amplitude')\n",
    "plt.legend()"
   ]
  },
  {
   "cell_type": "code",
   "execution_count": null,
   "metadata": {},
   "outputs": [],
   "source": [
    "## Save FFNN\n",
    "# FFNN.save('FFNN_Conv1D_model')"
   ]
  },
  {
   "cell_type": "markdown",
   "metadata": {},
   "source": [
    "# Predictions"
   ]
  },
  {
   "cell_type": "code",
   "execution_count": null,
   "metadata": {},
   "outputs": [],
   "source": [
    "import time\n",
    "start_time = time.time()\n",
    "BB_preds = Decoder.predict(FFNN.predict(FFNN_InputData_valid))\n",
    "print(BB_preds.shape)\n",
    "end_time = time.time()\n",
    "print(f'Time to predict: {end_time - start_time}')"
   ]
  },
  {
   "cell_type": "code",
   "execution_count": null,
   "metadata": {},
   "outputs": [],
   "source": [
    "fig, axs = plt.subplots(figsize=(10,4))\n",
    "# fig.suptitle('Backbone Curve (raw_data)')\n",
    "axs.scatter(BB_preds[7,:,1], BB_preds[7,:,0], label = 'Predicted')\n",
    "axs.scatter(data_valid[7,:,1], data_valid[7,:,0], label = 'Actual')\n",
    "axs.set_xlabel('Frequency')\n",
    "axs.set_ylabel('Amplitude')\n",
    "plt.legend()"
   ]
  },
  {
   "cell_type": "code",
   "execution_count": null,
   "metadata": {},
   "outputs": [],
   "source": []
  },
  {
   "cell_type": "code",
   "execution_count": null,
   "metadata": {},
   "outputs": [],
   "source": []
  }
 ],
 "metadata": {
  "colab": {
   "collapsed_sections": [],
   "name": "Untitled2.ipynb",
   "provenance": []
  },
  "kernelspec": {
   "display_name": "Python 3 (ipykernel)",
   "language": "python",
   "name": "python3"
  },
  "language_info": {
   "codemirror_mode": {
    "name": "ipython",
    "version": 3
   },
   "file_extension": ".py",
   "mimetype": "text/x-python",
   "name": "python",
   "nbconvert_exporter": "python",
   "pygments_lexer": "ipython3",
   "version": "3.9.7"
  },
  "vscode": {
   "interpreter": {
    "hash": "c446ff975d4209366ca18a6773e62fd599c6cd3ede4ebd18ee73f07ff11971f3"
   }
  }
 },
 "nbformat": 4,
 "nbformat_minor": 4
}
